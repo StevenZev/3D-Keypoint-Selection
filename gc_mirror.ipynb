{
 "cells": [
  {
   "cell_type": "code",
   "execution_count": 4,
   "id": "65e5ae29",
   "metadata": {},
   "outputs": [],
   "source": [
    "import json\n",
    "import numpy as np\n",
    "import open3d as o3d\n",
    "from sklearn.neighbors import NearestNeighbors\n",
    "import os"
   ]
  },
  {
   "cell_type": "code",
   "execution_count": 5,
   "id": "dcc7196c",
   "metadata": {},
   "outputs": [],
   "source": [
    "def find_nearest_points_from_json(json_file: str,\n",
    "                                  model_id: str,\n",
    "                                  stl_dir: str,\n",
    "                                  max_points: int = 8192,\n",
    "                                  sampling_method: str = 'uniform',\n",
    "                                  normalize: bool = True,\n",
    "                                  num_keypoints: int = 2) -> list:\n",
    "    \"\"\"\n",
    "    Load GT coords for a model_id from JSON, sample its mesh, find nearest point indices.\n",
    "\n",
    "    Args:\n",
    "        json_file: Path to keypoints.json.\n",
    "        model_id: The mesh ID to lookup.\n",
    "        stl_dir: Directory containing .stl files.\n",
    "        max_points: Points to sample.\n",
    "        sampling_method: 'uniform' or 'poisson'.\n",
    "        normalize: Normalize mesh like training.\n",
    "        num_keypoints: Number of keypoints to use.\n",
    "\n",
    "    Returns:\n",
    "        List of dicts [{'index': int, 'point': [x,y,z], 'gt_coord': [x,y,z]}]\n",
    "    \"\"\"\n",
    "\n",
    "    # === 1. Load annotations ===\n",
    "    with open(json_file, 'r') as f:\n",
    "        annotations = json.load(f)\n",
    "\n",
    "    match = None\n",
    "    for entry in annotations:\n",
    "        if entry['model_id'] == model_id:\n",
    "            match = entry\n",
    "            break\n",
    "\n",
    "    if match is None:\n",
    "        raise ValueError(f\"Model ID {model_id} not found in {json_file}\")\n",
    "\n",
    "    # Pull GT keypoint coordinates (only use first num_keypoints)\n",
    "    gt_coords = [kp['xyz'] for kp in match['keypoints'][:num_keypoints]]\n",
    "\n",
    "    # === 2. Load mesh ===\n",
    "    mesh_path = os.path.join(stl_dir, f\"{model_id}.stl\")\n",
    "    mesh = o3d.io.read_triangle_mesh(mesh_path)\n",
    "    if len(mesh.vertices) == 0:\n",
    "        raise ValueError(f\"Failed to load mesh: {mesh_path}\")\n",
    "\n",
    "    # === 3. Sample points ===\n",
    "    num_sample_points = max_points * 2\n",
    "    if sampling_method == 'uniform':\n",
    "        pcd = mesh.sample_points_uniformly(number_of_points=num_sample_points)\n",
    "    elif sampling_method == 'poisson':\n",
    "        pcd = mesh.sample_points_poisson_disk(number_of_points=num_sample_points)\n",
    "    else:\n",
    "        raise ValueError(f\"Unsupported sampling method: {sampling_method}\")\n",
    "\n",
    "    points = np.asarray(pcd.points)\n",
    "\n",
    "    # === 4. Normalize ===\n",
    "    if normalize:\n",
    "        centroid = np.mean(points, axis=0)\n",
    "        points = points - centroid\n",
    "        max_distance = np.max(np.linalg.norm(points, axis=1))\n",
    "        points = points / max_distance\n",
    "\n",
    "    # === 5. Nearest neighbors ===\n",
    "    nbrs = NearestNeighbors(n_neighbors=1, algorithm='ball_tree').fit(points)\n",
    "\n",
    "    nearest = []\n",
    "    for coord in gt_coords:\n",
    "        query = np.array(coord)\n",
    "        if normalize:\n",
    "            query = (query - centroid) / max_distance\n",
    "        distances, indices = nbrs.kneighbors([query])\n",
    "        idx = indices[0][0]\n",
    "        nearest.append({\n",
    "            'index': idx,\n",
    "            'point': points[idx].tolist(),\n",
    "            'gt_coord': coord\n",
    "        })\n",
    "\n",
    "    return nearest"
   ]
  },
  {
   "cell_type": "code",
   "execution_count": 30,
   "id": "e35bd585",
   "metadata": {},
   "outputs": [
    {
     "name": "stdout",
     "output_type": "stream",
     "text": [
      "gt_coord\n",
      "-0.0030665805392982304 0.11286537717454001 0.296266566188385\n",
      "0.037489796848741874 -0.19636781349888416 0.3651748456235039\n",
      "--------------------------------\n",
      "point\n",
      "0.10753322063502067 0.22316784320738903 -0.0814913912146363\n",
      "0.2147687742965619 -0.6241310194616749 0.10349931818217269\n"
     ]
    }
   ],
   "source": [
    "result = find_nearest_points_from_json(\n",
    "    json_file='knee_annotations/7-2-25/knee_points_4_5_flipped.json',\n",
    "    model_id='12216',\n",
    "    stl_dir='scans_3/',\n",
    "    max_points=8192,\n",
    "    sampling_method='uniform',\n",
    "    normalize=True,\n",
    "    num_keypoints=2\n",
    ")\n",
    "\n",
    "print('gt_coord')\n",
    "for i in result:\n",
    "    print(*i['gt_coord'])\n",
    "print('--------------------------------')\n",
    "print('point')\n",
    "for i in result:\n",
    "    print(*i['point'])"
   ]
  },
  {
   "cell_type": "code",
   "execution_count": 31,
   "id": "3f868e2c",
   "metadata": {},
   "outputs": [
    {
     "ename": "NameError",
     "evalue": "name 'points' is not defined",
     "output_type": "error",
     "traceback": [
      "\u001b[0;31m---------------------------------------------------------------------------\u001b[0m",
      "\u001b[0;31mNameError\u001b[0m                                 Traceback (most recent call last)",
      "Cell \u001b[0;32mIn[31], line 5\u001b[0m\n\u001b[1;32m      3\u001b[0m \u001b[38;5;66;03m# Create Open3D point cloud\u001b[39;00m\n\u001b[1;32m      4\u001b[0m pcd \u001b[38;5;241m=\u001b[39m o3d\u001b[38;5;241m.\u001b[39mgeometry\u001b[38;5;241m.\u001b[39mPointCloud()\n\u001b[0;32m----> 5\u001b[0m pcd\u001b[38;5;241m.\u001b[39mpoints \u001b[38;5;241m=\u001b[39m o3d\u001b[38;5;241m.\u001b[39mutility\u001b[38;5;241m.\u001b[39mVector3dVector(\u001b[43mpoints\u001b[49m)\n\u001b[1;32m      7\u001b[0m \u001b[38;5;66;03m# GT point as a sphere\u001b[39;00m\n\u001b[1;32m      8\u001b[0m gt_sphere \u001b[38;5;241m=\u001b[39m o3d\u001b[38;5;241m.\u001b[39mgeometry\u001b[38;5;241m.\u001b[39mTriangleMesh\u001b[38;5;241m.\u001b[39mcreate_sphere(radius\u001b[38;5;241m=\u001b[39m\u001b[38;5;241m0.01\u001b[39m)\n",
      "\u001b[0;31mNameError\u001b[0m: name 'points' is not defined"
     ]
    }
   ],
   "source": [
    "import open3d as o3d\n",
    "\n",
    "# Create Open3D point cloud\n",
    "pcd = o3d.geometry.PointCloud()\n",
    "pcd.points = o3d.utility.Vector3dVector(points)\n",
    "\n",
    "# GT point as a sphere\n",
    "gt_sphere = o3d.geometry.TriangleMesh.create_sphere(radius=0.01)\n",
    "gt_sphere.paint_uniform_color([1, 0, 0])  # red\n",
    "gt_sphere.translate(gt_coord)\n",
    "\n",
    "# Nearest point as a sphere\n",
    "pred_sphere = o3d.geometry.TriangleMesh.create_sphere(radius=0.01)\n",
    "pred_sphere.paint_uniform_color([0, 1, 0])  # green\n",
    "pred_sphere.translate(point)\n",
    "\n",
    "o3d.visualization.draw_geometries([pcd, gt_sphere, pred_sphere])\n"
   ]
  }
 ],
 "metadata": {
  "kernelspec": {
   "display_name": "pointnet_env",
   "language": "python",
   "name": "python3"
  },
  "language_info": {
   "codemirror_mode": {
    "name": "ipython",
    "version": 3
   },
   "file_extension": ".py",
   "mimetype": "text/x-python",
   "name": "python",
   "nbconvert_exporter": "python",
   "pygments_lexer": "ipython3",
   "version": "3.10.12"
  }
 },
 "nbformat": 4,
 "nbformat_minor": 5
}
